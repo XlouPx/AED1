{
 "cells": [
  {
   "cell_type": "code",
   "execution_count": 17,
   "id": "c3b2c0b4-1408-44e3-9c98-3b0d95fca8f2",
   "metadata": {},
   "outputs": [],
   "source": [
    "from math import sqrt"
   ]
  },
  {
   "cell_type": "code",
   "execution_count": 21,
   "id": "abcdd72f-9d98-4925-8108-7f051abbc665",
   "metadata": {},
   "outputs": [
    {
     "name": "stdout",
     "output_type": "stream",
     "text": [
      "O resultado é: 2.0\n"
     ]
    }
   ],
   "source": [
    "# Defina os valores primeiro\n",
    "# x= (a + b/c)/(d-e/f)\n",
    "# x = (2+6/3)/(4-8/4)\n",
    "# X = 2+2.0 / 4- 2.0\n",
    "# x= 4.0/2.0\n",
    "# x=2.0\n",
    "\n",
    "a, b, c, d, e, f = 2, 6, 3, 4, 8, 4\n",
    "\n",
    "# Depois calcule\n",
    "x = (a + b/c)/(d - e/f)\n",
    "print(f\"O resultado é: {x}\")"
   ]
  },
  {
   "cell_type": "code",
   "execution_count": 47,
   "id": "8325f976-b95b-4f3c-aea6-f6c58168c54f",
   "metadata": {},
   "outputs": [
    {
     "name": "stdout",
     "output_type": "stream",
     "text": [
      "O resultado é: -1.7834936490538904\n"
     ]
    }
   ],
   "source": [
    "# x = 2\n",
    "# y = ((2 * x ** 2 - 3 * x ** (x + 1)) / 2 + (sqrt(x + 1) / x)) / (2 * x)\n",
    "# print(y)\n",
    "\n",
    "import math\n",
    "\n",
    "# Primeiro defina x com algum valor\n",
    "x = 2\n",
    "\n",
    "y = (\n",
    "    (2 * x ** 2 - 3 * x ** (x + 1)) / 2 \n",
    "    + math.sqrt(x + 1) / x\n",
    ") / (2 * x)\n",
    "print(f\"O resultado é: {y}\")\n"
   ]
  },
  {
   "cell_type": "code",
   "execution_count": 49,
   "id": "48b81120-47b6-4ea5-9a17-f799b908a451",
   "metadata": {},
   "outputs": [
    {
     "name": "stdin",
     "output_type": "stream",
     "text": [
      "Digite o valor 1:  2\n",
      "Digite o valor 2:  3\n"
     ]
    },
    {
     "name": "stdout",
     "output_type": "stream",
     "text": [
      "A soma dos valores 5\n"
     ]
    }
   ],
   "source": [
    "r = int(input(\"Digite o valor 1: \"))\n",
    "s = int(input(\"Digite o valor 2: \"))\n",
    "\n",
    "print(\"A soma dos valores\", r + s)"
   ]
  },
  {
   "cell_type": "code",
   "execution_count": null,
   "id": "d4de424f-19f7-44e5-b0cf-aaff751f07a1",
   "metadata": {},
   "outputs": [],
   "source": []
  }
 ],
 "metadata": {
  "kernelspec": {
   "display_name": "Python [conda env:base] *",
   "language": "python",
   "name": "conda-base-py"
  },
  "language_info": {
   "codemirror_mode": {
    "name": "ipython",
    "version": 3
   },
   "file_extension": ".py",
   "mimetype": "text/x-python",
   "name": "python",
   "nbconvert_exporter": "python",
   "pygments_lexer": "ipython3",
   "version": "3.12.7"
  }
 },
 "nbformat": 4,
 "nbformat_minor": 5
}
