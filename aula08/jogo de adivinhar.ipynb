{
 "cells": [
  {
   "cell_type": "code",
   "execution_count": 9,
   "id": "10589885-af83-4622-8e30-bb6feb94d9e7",
   "metadata": {},
   "outputs": [
    {
     "name": "stdout",
     "output_type": "stream",
     "text": [
      "O número aleatório gerado é: 23\n"
     ]
    }
   ],
   "source": [
    "from random import randint\n",
    "\n",
    "# Gera um número inteiro aleatório entre 1 e 50 (inclusive)\n",
    "numero_aleatorio = randint(1, 50)\n",
    "\n",
    "# Imprime o resultado\n",
    "print(f\"O número aleatório gerado é: {numero_aleatorio}\")"
   ]
  },
  {
   "cell_type": "code",
   "execution_count": 18,
   "id": "67ab382f-88bd-48cd-a5b1-df2ae50272f6",
   "metadata": {},
   "outputs": [
    {
     "name": "stdin",
     "output_type": "stream",
     "text": [
      "Digite um palpite <1 entre 50>:  4\n"
     ]
    },
    {
     "name": "stdout",
     "output_type": "stream",
     "text": [
      "Não foi desta vez... O número aleatório gerado é: 48.\n"
     ]
    }
   ],
   "source": [
    "from random import randint\n",
    "\n",
    "palpite = int(input(\"Digite um palpite <1 entre 50>: \"))\n",
    "# Gera um número inteiro aleatório entre 1 e 50 (inclusive)\n",
    "numero_aleatorio = randint(1, 50)\n",
    "if dica == numero_aleatorio:\n",
    "    print(f\"Parabéns! O número aleatório gerado é: {numero_aleatorio}. Seu palpite é {palpite}.\")\n",
    "else:\n",
    "    print(f\"Não foi desta vez... O número aleatório gerado é: {numero_aleatorio}.\")"
   ]
  },
  {
   "cell_type": "code",
   "execution_count": 22,
   "id": "581f3732-5355-4ccc-b1e7-191ac85d673c",
   "metadata": {},
   "outputs": [
    {
     "name": "stdin",
     "output_type": "stream",
     "text": [
      "Digite um palpite <1 entre 50>:  33\n"
     ]
    },
    {
     "name": "stdout",
     "output_type": "stream",
     "text": [
      "Seu palpite é 33, foi Maior, tente novamente\n"
     ]
    }
   ],
   "source": [
    "from random import randint\n",
    "\n",
    "palpite = int(input(\"Digite um palpite <1 entre 50>: \"))\n",
    "# Gera um número inteiro aleatório entre 1 e 50 (inclusive)\n",
    "numero_aleatorio = randint(1, 50)\n",
    "if dica == numero_aleatorio:\n",
    "    print(f\"Parabéns! O número aleatório gerado é: {numero_aleatorio}. Seu palpite é {palpite}.\")\n",
    "elif palpite > numero_aleatorio:\n",
    "    print(f\"Seu palpite é {palpite}, foi Maior, tente novamente\")\n",
    "else:\n",
    "    print(f\"Seu palpite é {palpite}, foi menor, tente novamente\")"
   ]
  },
  {
   "cell_type": "code",
   "execution_count": 30,
   "id": "ff091221-90d4-4a1b-9183-39fba5993d7b",
   "metadata": {},
   "outputs": [
    {
     "name": "stdin",
     "output_type": "stream",
     "text": [
      "Digite um palpite <1 entre 50>:  3\n"
     ]
    },
    {
     "name": "stdout",
     "output_type": "stream",
     "text": [
      "Seu palpite é 3, foi menor, tente novamente\n"
     ]
    },
    {
     "name": "stdin",
     "output_type": "stream",
     "text": [
      "Digite um palpite <1 entre 50>:  3\n"
     ]
    },
    {
     "name": "stdout",
     "output_type": "stream",
     "text": [
      "Seu palpite é 3, foi menor, tente novamente\n"
     ]
    },
    {
     "ename": "KeyboardInterrupt",
     "evalue": "Interrupted by user",
     "output_type": "error",
     "traceback": [
      "\u001b[1;31m---------------------------------------------------------------------------\u001b[0m",
      "\u001b[1;31mKeyboardInterrupt\u001b[0m                         Traceback (most recent call last)",
      "Cell \u001b[1;32mIn[30], line 6\u001b[0m\n\u001b[0;32m      3\u001b[0m numero_aleatorio \u001b[38;5;241m=\u001b[39m randint(\u001b[38;5;241m1\u001b[39m, \u001b[38;5;241m50\u001b[39m)\n\u001b[0;32m      5\u001b[0m \u001b[38;5;28;01mwhile\u001b[39;00m \u001b[38;5;28;01mTrue\u001b[39;00m:\n\u001b[1;32m----> 6\u001b[0m     palpite \u001b[38;5;241m=\u001b[39m \u001b[38;5;28mint\u001b[39m(\u001b[38;5;28minput\u001b[39m(\u001b[38;5;124m\"\u001b[39m\u001b[38;5;124mDigite um palpite <1 entre 50>: \u001b[39m\u001b[38;5;124m\"\u001b[39m))\n\u001b[0;32m      8\u001b[0m     \u001b[38;5;28;01mif\u001b[39;00m palpite \u001b[38;5;241m==\u001b[39m numero_aleatorio:\n\u001b[0;32m      9\u001b[0m         \u001b[38;5;28mprint\u001b[39m(\u001b[38;5;124mf\u001b[39m\u001b[38;5;124m\"\u001b[39m\u001b[38;5;124mParabéns! O número aleatório gerado é: \u001b[39m\u001b[38;5;132;01m{\u001b[39;00mnumero_aleatorio\u001b[38;5;132;01m}\u001b[39;00m\u001b[38;5;124m. Seu palpite é \u001b[39m\u001b[38;5;132;01m{\u001b[39;00mpalpite\u001b[38;5;132;01m}\u001b[39;00m\u001b[38;5;124m.\u001b[39m\u001b[38;5;124m\"\u001b[39m)\n",
      "File \u001b[1;32mC:\\ProgramData\\anaconda3\\Lib\\site-packages\\ipykernel\\kernelbase.py:1262\u001b[0m, in \u001b[0;36mKernel.raw_input\u001b[1;34m(self, prompt)\u001b[0m\n\u001b[0;32m   1260\u001b[0m     msg \u001b[38;5;241m=\u001b[39m \u001b[38;5;124m\"\u001b[39m\u001b[38;5;124mraw_input was called, but this frontend does not support input requests.\u001b[39m\u001b[38;5;124m\"\u001b[39m\n\u001b[0;32m   1261\u001b[0m     \u001b[38;5;28;01mraise\u001b[39;00m StdinNotImplementedError(msg)\n\u001b[1;32m-> 1262\u001b[0m \u001b[38;5;28;01mreturn\u001b[39;00m \u001b[38;5;28mself\u001b[39m\u001b[38;5;241m.\u001b[39m_input_request(\n\u001b[0;32m   1263\u001b[0m     \u001b[38;5;28mstr\u001b[39m(prompt),\n\u001b[0;32m   1264\u001b[0m     \u001b[38;5;28mself\u001b[39m\u001b[38;5;241m.\u001b[39m_parent_ident[\u001b[38;5;124m\"\u001b[39m\u001b[38;5;124mshell\u001b[39m\u001b[38;5;124m\"\u001b[39m],\n\u001b[0;32m   1265\u001b[0m     \u001b[38;5;28mself\u001b[39m\u001b[38;5;241m.\u001b[39mget_parent(\u001b[38;5;124m\"\u001b[39m\u001b[38;5;124mshell\u001b[39m\u001b[38;5;124m\"\u001b[39m),\n\u001b[0;32m   1266\u001b[0m     password\u001b[38;5;241m=\u001b[39m\u001b[38;5;28;01mFalse\u001b[39;00m,\n\u001b[0;32m   1267\u001b[0m )\n",
      "File \u001b[1;32mC:\\ProgramData\\anaconda3\\Lib\\site-packages\\ipykernel\\kernelbase.py:1305\u001b[0m, in \u001b[0;36mKernel._input_request\u001b[1;34m(self, prompt, ident, parent, password)\u001b[0m\n\u001b[0;32m   1302\u001b[0m \u001b[38;5;28;01mexcept\u001b[39;00m \u001b[38;5;167;01mKeyboardInterrupt\u001b[39;00m:\n\u001b[0;32m   1303\u001b[0m     \u001b[38;5;66;03m# re-raise KeyboardInterrupt, to truncate traceback\u001b[39;00m\n\u001b[0;32m   1304\u001b[0m     msg \u001b[38;5;241m=\u001b[39m \u001b[38;5;124m\"\u001b[39m\u001b[38;5;124mInterrupted by user\u001b[39m\u001b[38;5;124m\"\u001b[39m\n\u001b[1;32m-> 1305\u001b[0m     \u001b[38;5;28;01mraise\u001b[39;00m \u001b[38;5;167;01mKeyboardInterrupt\u001b[39;00m(msg) \u001b[38;5;28;01mfrom\u001b[39;00m \u001b[38;5;28;01mNone\u001b[39;00m\n\u001b[0;32m   1306\u001b[0m \u001b[38;5;28;01mexcept\u001b[39;00m \u001b[38;5;167;01mException\u001b[39;00m:\n\u001b[0;32m   1307\u001b[0m     \u001b[38;5;28mself\u001b[39m\u001b[38;5;241m.\u001b[39mlog\u001b[38;5;241m.\u001b[39mwarning(\u001b[38;5;124m\"\u001b[39m\u001b[38;5;124mInvalid Message:\u001b[39m\u001b[38;5;124m\"\u001b[39m, exc_info\u001b[38;5;241m=\u001b[39m\u001b[38;5;28;01mTrue\u001b[39;00m)\n",
      "\u001b[1;31mKeyboardInterrupt\u001b[0m: Interrupted by user"
     ]
    }
   ],
   "source": [
    "from random import randint\n",
    "\n",
    "numero_aleatorio = randint(1, 50)\n",
    "\n",
    "while True:\n",
    "    palpite = int(input(\"Digite um palpite <1 entre 50>: \"))\n",
    "\n",
    "    if palpite == numero_aleatorio:\n",
    "        print(f\"Parabéns! O número aleatório gerado é: {numero_aleatorio}. Seu palpite é {palpite}.\")\n",
    "        break\n",
    "    elif palpite > numero_aleatorio:\n",
    "        print(f\"Seu palpite é {palpite}, foi Maior, tente novamente\")\n",
    "    else:\n",
    "        print(f\"Seu palpite é {palpite}, foi menor, tente novamente\")"
   ]
  },
  {
   "cell_type": "code",
   "execution_count": 32,
   "id": "26c27ee1-5e55-42fc-9c27-f9b0c740590b",
   "metadata": {},
   "outputs": [
    {
     "name": "stdin",
     "output_type": "stream",
     "text": [
      "Digite um palpite <1 entre 50>:  22\n"
     ]
    },
    {
     "name": "stdout",
     "output_type": "stream",
     "text": [
      "Seu palpite é 22, foi menor, tente novamente\n"
     ]
    },
    {
     "name": "stdin",
     "output_type": "stream",
     "text": [
      "Digite um palpite <1 entre 50>:  22\n"
     ]
    },
    {
     "name": "stdout",
     "output_type": "stream",
     "text": [
      "Seu palpite é 22, foi menor, tente novamente\n"
     ]
    },
    {
     "name": "stdin",
     "output_type": "stream",
     "text": [
      "Digite um palpite <1 entre 50>:  22\n"
     ]
    },
    {
     "name": "stdout",
     "output_type": "stream",
     "text": [
      "Seu palpite é 22, foi menor, tente novamente\n"
     ]
    },
    {
     "name": "stdin",
     "output_type": "stream",
     "text": [
      "Digite um palpite <1 entre 50>:  22\n"
     ]
    },
    {
     "name": "stdout",
     "output_type": "stream",
     "text": [
      "Seu palpite é 22, foi menor, tente novamente\n"
     ]
    },
    {
     "name": "stdin",
     "output_type": "stream",
     "text": [
      "Digite um palpite <1 entre 50>:  22\n"
     ]
    },
    {
     "name": "stdout",
     "output_type": "stream",
     "text": [
      "Suas 5 tentativas acabaram. O número era 50.\n"
     ]
    }
   ],
   "source": [
    "from random import randint\n",
    "\n",
    "numero_aleatorio = randint(1, 50)\n",
    "tentativa = 0\n",
    "\n",
    "while True:\n",
    "    palpite = int(input(\"Digite um palpite <1 entre 50>: \"))\n",
    "    tentativa += 1\n",
    "\n",
    "    if palpite == numero_aleatorio:\n",
    "        print(f\"Parabéns! O número aleatório gerado é: {numero_aleatorio}. Seu palpite é {palpite}.\")\n",
    "        break\n",
    "    elif tentativa >= 5:\n",
    "        print(f\"Suas 5 tentativas acabaram. O número era {numero_aleatorio}.\")\n",
    "        break\n",
    "    elif palpite > numero_aleatorio:\n",
    "        print(f\"Seu palpite é {palpite}, foi Maior, tente novamente\")\n",
    "    else:\n",
    "        print(f\"Seu palpite é {palpite}, foi menor, tente novamente\")"
   ]
  },
  {
   "cell_type": "code",
   "execution_count": 36,
   "id": "0a5f10f2-00c9-43f9-a03d-bab5e9b89bde",
   "metadata": {},
   "outputs": [
    {
     "name": "stdin",
     "output_type": "stream",
     "text": [
      "Digite um palpite <1 entre 50>:  33\n"
     ]
    },
    {
     "name": "stdout",
     "output_type": "stream",
     "text": [
      "Seu palpite é 33, foi menor. Tente novamente.\n"
     ]
    },
    {
     "name": "stdin",
     "output_type": "stream",
     "text": [
      "Digite um palpite <1 entre 50>:  33\n"
     ]
    },
    {
     "name": "stdout",
     "output_type": "stream",
     "text": [
      "Seu palpite é 33, foi menor. Tente novamente.\n"
     ]
    },
    {
     "name": "stdin",
     "output_type": "stream",
     "text": [
      "Digite um palpite <1 entre 50>:  33\n"
     ]
    },
    {
     "name": "stdout",
     "output_type": "stream",
     "text": [
      "Seu palpite é 33, foi menor. Tente novamente.\n"
     ]
    },
    {
     "name": "stdin",
     "output_type": "stream",
     "text": [
      "Digite um palpite <1 entre 50>:  33\n"
     ]
    },
    {
     "name": "stdout",
     "output_type": "stream",
     "text": [
      "Seu palpite é 33, foi menor. Tente novamente.\n"
     ]
    },
    {
     "name": "stdin",
     "output_type": "stream",
     "text": [
      "Digite um palpite <1 entre 50>:  33\n"
     ]
    },
    {
     "name": "stdout",
     "output_type": "stream",
     "text": [
      "Suas 5 tentativas acabaram. O número era 48.\n"
     ]
    },
    {
     "name": "stdin",
     "output_type": "stream",
     "text": [
      "Quer jogar de novo? (s/n):  s\n",
      "Digite um palpite <1 entre 50>:  44\n"
     ]
    },
    {
     "name": "stdout",
     "output_type": "stream",
     "text": [
      "Seu palpite é 44, foi Maior. Tente novamente.\n"
     ]
    },
    {
     "name": "stdin",
     "output_type": "stream",
     "text": [
      "Digite um palpite <1 entre 50>:  55\n"
     ]
    },
    {
     "name": "stdout",
     "output_type": "stream",
     "text": [
      "Seu palpite é 55, foi Maior. Tente novamente.\n"
     ]
    },
    {
     "name": "stdin",
     "output_type": "stream",
     "text": [
      "Digite um palpite <1 entre 50>:  66\n"
     ]
    },
    {
     "name": "stdout",
     "output_type": "stream",
     "text": [
      "Seu palpite é 66, foi Maior. Tente novamente.\n"
     ]
    },
    {
     "name": "stdin",
     "output_type": "stream",
     "text": [
      "Digite um palpite <1 entre 50>:  77\n"
     ]
    },
    {
     "name": "stdout",
     "output_type": "stream",
     "text": [
      "Seu palpite é 77, foi Maior. Tente novamente.\n"
     ]
    },
    {
     "name": "stdin",
     "output_type": "stream",
     "text": [
      "Digite um palpite <1 entre 50>:  4\n"
     ]
    },
    {
     "name": "stdout",
     "output_type": "stream",
     "text": [
      "Suas 5 tentativas acabaram. O número era 26.\n"
     ]
    },
    {
     "name": "stdin",
     "output_type": "stream",
     "text": [
      "Quer jogar de novo? (s/n):  l\n"
     ]
    },
    {
     "name": "stdout",
     "output_type": "stream",
     "text": [
      "Obrigado por jogar! Até a próxima.\n"
     ]
    }
   ],
   "source": [
    "from random import randint\n",
    "\n",
    "jogar_novamente = 's'\n",
    "\n",
    "while jogar_novamente.lower() == 's':\n",
    "    numero_aleatorio = randint(1, 50)\n",
    "    tentativa = 0\n",
    "\n",
    "    while True:\n",
    "        palpite = int(input(\"Digite um palpite <1 entre 50>: \"))\n",
    "        tentativa += 1\n",
    "\n",
    "        if palpite == numero_aleatorio:\n",
    "            print(f\"Parabéns! O número gerado era: {numero_aleatorio}. Você acertou em {tentativa} tentativas.\")\n",
    "            break\n",
    "        elif tentativa >= 5:\n",
    "            print(f\"Suas 5 tentativas acabaram. O número era {numero_aleatorio}.\")\n",
    "            break\n",
    "        elif palpite > numero_aleatorio:\n",
    "            print(f\"Seu palpite é {palpite}, foi Maior. Tente novamente.\")\n",
    "        else:\n",
    "            print(f\"Seu palpite é {palpite}, foi menor. Tente novamente.\")\n",
    "\n",
    "    jogar_novamente = input(\"Quer jogar de novo? (s/n): \")\n",
    "    if jogar_novamente.lower() != 's':\n",
    "        print(\"Obrigado por jogar! Até a próxima.\")\n",
    "        break"
   ]
  },
  {
   "cell_type": "code",
   "execution_count": 42,
   "id": "9a146256-37c0-47c2-a787-6a18d4f56225",
   "metadata": {},
   "outputs": [
    {
     "name": "stdin",
     "output_type": "stream",
     "text": [
      "Digite um palpite <1 entre 50>:  33\n"
     ]
    },
    {
     "name": "stdout",
     "output_type": "stream",
     "text": [
      "Seu palpite é 33, foi menor. Você está Frio! Tente novamente.\n"
     ]
    },
    {
     "name": "stdin",
     "output_type": "stream",
     "text": [
      "Digite um palpite <1 entre 50>:  44\n"
     ]
    },
    {
     "name": "stdout",
     "output_type": "stream",
     "text": [
      "Seu palpite é 44, foi Maior. Você está Quente! Tente novamente.\n"
     ]
    },
    {
     "name": "stdin",
     "output_type": "stream",
     "text": [
      "Digite um palpite <1 entre 50>:  49\n"
     ]
    },
    {
     "name": "stdout",
     "output_type": "stream",
     "text": [
      "Seu palpite é 49, foi Maior. Você está Frio! Tente novamente.\n"
     ]
    },
    {
     "name": "stdin",
     "output_type": "stream",
     "text": [
      "Digite um palpite <1 entre 50>:  45\n"
     ]
    },
    {
     "name": "stdout",
     "output_type": "stream",
     "text": [
      "Seu palpite é 45, foi Maior. Você está Quente! Tente novamente.\n"
     ]
    },
    {
     "name": "stdin",
     "output_type": "stream",
     "text": [
      "Digite um palpite <1 entre 50>:  46\n"
     ]
    },
    {
     "name": "stdout",
     "output_type": "stream",
     "text": [
      "Suas 5 tentativas acabaram. O número era 42.\n"
     ]
    },
    {
     "name": "stdin",
     "output_type": "stream",
     "text": [
      "Quer jogar de novo? (s/n):  ç\n"
     ]
    },
    {
     "name": "stdout",
     "output_type": "stream",
     "text": [
      "Obrigado por jogar! Até a próxima.\n"
     ]
    }
   ],
   "source": [
    "from random import randint\n",
    "\n",
    "jogar_novamente = 's'\n",
    "\n",
    "while jogar_novamente.lower() == 's':\n",
    "    numero_aleatorio = randint(1, 50)\n",
    "    tentativa = 0\n",
    "\n",
    "    while True:\n",
    "        palpite = int(input(\"Digite um palpite <1 entre 50>: \"))\n",
    "        tentativa += 1\n",
    "        \n",
    "        d = abs(numero_aleatorio - palpite)\n",
    "        if d > 5:\n",
    "            qf = \"Frio\"\n",
    "        else:\n",
    "            qf = \"Quente\"\n",
    "        \n",
    "        if palpite == numero_aleatorio:\n",
    "            print(f\"Parabéns! O número gerado era: {numero_aleatorio}. Você acertou em {tentativa} tentativas.\")\n",
    "            break\n",
    "        elif tentativa >= 5:\n",
    "            print(f\"Suas 5 tentativas acabaram. O número era {numero_aleatorio}.\")\n",
    "            break\n",
    "        elif palpite > numero_aleatorio:\n",
    "            print(f\"Seu palpite é {palpite}, foi Maior. Você está {qf}! Tente novamente.\")\n",
    "        else:\n",
    "            print(f\"Seu palpite é {palpite}, foi menor. Você está {qf}! Tente novamente.\")\n",
    "\n",
    "    jogar_novamente = input(\"Quer jogar de novo? (s/n): \")\n",
    "    if jogar_novamente.lower() != 's':\n",
    "        print(\"Obrigado por jogar! Até a próxima.\")\n",
    "        break"
   ]
  },
  {
   "cell_type": "code",
   "execution_count": null,
   "id": "3ecfe927-396d-42fd-a948-8283a959b42e",
   "metadata": {},
   "outputs": [],
   "source": []
  }
 ],
 "metadata": {
  "kernelspec": {
   "display_name": "Python [conda env:base] *",
   "language": "python",
   "name": "conda-base-py"
  },
  "language_info": {
   "codemirror_mode": {
    "name": "ipython",
    "version": 3
   },
   "file_extension": ".py",
   "mimetype": "text/x-python",
   "name": "python",
   "nbconvert_exporter": "python",
   "pygments_lexer": "ipython3",
   "version": "3.12.7"
  }
 },
 "nbformat": 4,
 "nbformat_minor": 5
}
