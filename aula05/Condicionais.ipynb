{
 "cells": [
  {
   "cell_type": "code",
   "execution_count": 23,
   "id": "6f32b8ef-36f8-4d8a-80bb-84a803bc766e",
   "metadata": {},
   "outputs": [
    {
     "name": "stdin",
     "output_type": "stream",
     "text": [
      "Digite sua Idade:  11\n"
     ]
    }
   ],
   "source": [
    "idade = int(input(\"Digite sua Idade: \"))"
   ]
  },
  {
   "cell_type": "code",
   "execution_count": 13,
   "id": "bc7f9082-227b-45ce-a8c4-3ae1ca64aa8c",
   "metadata": {},
   "outputs": [
    {
     "data": {
      "text/plain": [
       "int"
      ]
     },
     "execution_count": 13,
     "metadata": {},
     "output_type": "execute_result"
    }
   ],
   "source": [
    "type(idade)"
   ]
  },
  {
   "cell_type": "code",
   "execution_count": 27,
   "id": "bfa9c70b-e836-4e72-bb56-2d3a97ef973d",
   "metadata": {},
   "outputs": [
    {
     "name": "stdin",
     "output_type": "stream",
     "text": [
      "Digite sua Idade:  22\n"
     ]
    },
    {
     "name": "stdout",
     "output_type": "stream",
     "text": [
      "você já é maior de idade!:\n",
      "Fim!\n"
     ]
    }
   ],
   "source": [
    "idade = int(input(\"Digite sua Idade: \"))\n",
    "if idade >= 18:\n",
    "    print(\"você já é maior de idade!:\")\n",
    "else:\n",
    "    print(\"Espere mais um pouco!\")\n",
    "print(\"Fim!\")"
   ]
  },
  {
   "cell_type": "code",
   "execution_count": 35,
   "id": "a57c5887-84d5-4379-af56-c3a2370ff138",
   "metadata": {},
   "outputs": [
    {
     "name": "stdin",
     "output_type": "stream",
     "text": [
      "Digite a nota 1:  4\n",
      "Digite a nota 2:  10\n"
     ]
    },
    {
     "name": "stdout",
     "output_type": "stream",
     "text": [
      "A media foi: 7.0\n",
      "Aprovado!!\n",
      "Fim\n"
     ]
    }
   ],
   "source": [
    "nota1 = float(input(\"Digite a nota 1: \"))\n",
    "nota2 = float(input(\"Digite a nota 2: \"))\n",
    "media = (nota1 + nota2) / 2\n",
    "print(\"A media foi:\", media)\n",
    "if media >= 6:\n",
    "    print(\"Aprovado!!\")\n",
    "else:\n",
    "    print(\"Reprovado\")"
   ]
  },
  {
   "cell_type": "code",
   "execution_count": 37,
   "id": "889c93e9-ad0a-44ba-b3ec-8e275d2b7ba7",
   "metadata": {},
   "outputs": [
    {
     "name": "stdin",
     "output_type": "stream",
     "text": [
      "digite um Numero:  2\n"
     ]
    },
    {
     "name": "stdout",
     "output_type": "stream",
     "text": [
      "O numero é positivo!\n",
      "Fim\n"
     ]
    }
   ],
   "source": [
    "numero = int(input(\"digite um Numero: \"))\n",
    "if numero >= 0:\n",
    "    print(\"O numero é positivo!\")\n",
    "print(\"Fim\")"
   ]
  },
  {
   "cell_type": "code",
   "execution_count": 53,
   "id": "0a2c2b35-b646-4ccb-b00c-bc976328d6c5",
   "metadata": {},
   "outputs": [
    {
     "name": "stdin",
     "output_type": "stream",
     "text": [
      "Digite um Numero 1:  2\n",
      "Digite um Numero 2:  4\n"
     ]
    },
    {
     "name": "stdout",
     "output_type": "stream",
     "text": [
      "4.0 O numero 2 é maior que o numero 1 = 2.0\n"
     ]
    }
   ],
   "source": [
    "numero1 = float(input(\"Digite um Numero 1: \"))\n",
    "numero2 = float(input(\"Digite um Numero 2: \"))\n",
    "if numero1 > numero2:\n",
    "    print(numero1, \"O numero 1 é maior que o numero 2 =\", numero2)\n",
    "else:\n",
    "    print(numero2, \"O numero 2 é maior que o numero 1 =\", numero1)"
   ]
  },
  {
   "cell_type": "code",
   "execution_count": 5,
   "id": "73528087-37dd-49e2-b42f-db3acc512042",
   "metadata": {},
   "outputs": [
    {
     "name": "stdin",
     "output_type": "stream",
     "text": [
      "Digite uma Letra:  d\n"
     ]
    },
    {
     "name": "stdout",
     "output_type": "stream",
     "text": [
      "A letra digitada é uma consoante\n"
     ]
    }
   ],
   "source": [
    "letra = input(\"Digite uma Letra: \")\n",
    "if letra == 'a' or letra == 'A':\n",
    "    print(\"A letra digitada é uma vogal! \")\n",
    "elif letra == 'e' or letra == 'E':\n",
    "    print(\"A letra digitada é uma vogal! \")\n",
    "elif letra == 'i' or letra == 'I':\n",
    "    print(\"A letra digitada é uma vogal! \")\n",
    "elif letra == 'o' or letra == 'O':\n",
    "    print(\"A letra digitada é uma vogal! \")\n",
    "elif letra == 'u' or letra == 'U':\n",
    "    print(\"A letra digitada é uma vogal! \")\n",
    "else:\n",
    "    print(\"A letra digitada é uma consoante\")"
   ]
  },
  {
   "cell_type": "code",
   "execution_count": 13,
   "id": "a1a0f762-6a45-4f5e-9505-f7b2feb3e674",
   "metadata": {},
   "outputs": [
    {
     "name": "stdin",
     "output_type": "stream",
     "text": [
      "Digite uma Letra:  ss\n"
     ]
    },
    {
     "name": "stdout",
     "output_type": "stream",
     "text": [
      "A letra digitada é uma consoante\n"
     ]
    }
   ],
   "source": [
    "letra = input(\"Digite uma Letra: \").upper()\n",
    "if letra in \"AEIOU\":\n",
    "    print(\"A letra digitada é uma vogal! \")\n",
    "else:\n",
    "    print(\"A letra digitada é uma consoante\")"
   ]
  },
  {
   "cell_type": "code",
   "execution_count": 32,
   "id": "6f1896bb-e47b-4ec9-8cf7-17112c220001",
   "metadata": {},
   "outputs": [
    {
     "name": "stdin",
     "output_type": "stream",
     "text": [
      "Digite um numero -66\n"
     ]
    },
    {
     "name": "stdout",
     "output_type": "stream",
     "text": [
      "-66  é par negativo!\n"
     ]
    }
   ],
   "source": [
    "numero = int(input(\"Digite um numero\"))\n",
    "if numero >= 0:\n",
    "    if (numero % 2) == 0:\n",
    "        print(numero, \"é par positivo\")\n",
    "    else:\n",
    "        print(numero, \"é impar positivo\")\n",
    "else:\n",
    "    if (abs(numero) % 2) == 0:\n",
    "        print(numero, \" é par negativo!\")\n",
    "    else:\n",
    "        print(numero, \" é impar negativo!\")"
   ]
  },
  {
   "cell_type": "code",
   "execution_count": 48,
   "id": "15fe18c4-e435-4844-9389-923ed845d3b4",
   "metadata": {},
   "outputs": [
    {
     "name": "stdin",
     "output_type": "stream",
     "text": [
      "Digite sua idade:  33\n"
     ]
    },
    {
     "name": "stdout",
     "output_type": "stream",
     "text": [
      "Categoria Sênior\n"
     ]
    }
   ],
   "source": [
    "idade = int(input(\"Digite a idade do nadador: \"))\n",
    "\n",
    "if idade >= 0 and idade <= 4:\n",
    "    print(\" Não pode nadar = Categoria Baby \")\n",
    "elif idade >= 5 and idade <= 7:\n",
    "    print(\"Categoria Infantil\")\n",
    "elif idade >= 8 and idade <= 10:\n",
    "    print(\"Categoria Juvenil\")\n",
    "elif idade >= 11 and idade <= 15:\n",
    "    print(\"Categoria Adolescente\")\n",
    "elif idade >= 16 and idade <= 30:\n",
    "    print(\"Categoria Adulto\")\n",
    "elif idade >= 31 and idade <= 80:\n",
    "    print(\"Categoria Sênior\")\n",
    "else:\n",
    "    print(\"Categoria Lendária\")\n"
   ]
  },
  {
   "cell_type": "code",
   "execution_count": null,
   "id": "d3720fcc-3935-4576-9629-9c9e979ce23f",
   "metadata": {},
   "outputs": [],
   "source": []
  }
 ],
 "metadata": {
  "kernelspec": {
   "display_name": "Python [conda env:base] *",
   "language": "python",
   "name": "conda-base-py"
  },
  "language_info": {
   "codemirror_mode": {
    "name": "ipython",
    "version": 3
   },
   "file_extension": ".py",
   "mimetype": "text/x-python",
   "name": "python",
   "nbconvert_exporter": "python",
   "pygments_lexer": "ipython3",
   "version": "3.12.7"
  }
 },
 "nbformat": 4,
 "nbformat_minor": 5
}
