{
 "cells": [
  {
   "cell_type": "code",
   "execution_count": 1,
   "id": "a688c8e1-95e3-4afe-9d27-9c849495c47a",
   "metadata": {},
   "outputs": [
    {
     "data": {
      "text/plain": [
       "5"
      ]
     },
     "execution_count": 1,
     "metadata": {},
     "output_type": "execute_result"
    }
   ],
   "source": [
    "2+3"
   ]
  },
  {
   "cell_type": "code",
   "execution_count": 3,
   "id": "49f77322-85eb-4354-ad1a-f817c4de8464",
   "metadata": {},
   "outputs": [
    {
     "name": "stdout",
     "output_type": "stream",
     "text": [
      "Ola, Mundo\n"
     ]
    }
   ],
   "source": [
    "print(\"Ola, Mundo\")"
   ]
  },
  {
   "cell_type": "code",
   "execution_count": 5,
   "id": "cb7dd8ef-1e4a-4f2a-afb7-5222f9817528",
   "metadata": {},
   "outputs": [],
   "source": [
    "x=70"
   ]
  },
  {
   "cell_type": "code",
   "execution_count": 7,
   "id": "95216660-19dd-431f-98d4-9a03923ef524",
   "metadata": {},
   "outputs": [
    {
     "name": "stdout",
     "output_type": "stream",
     "text": [
      "70\n"
     ]
    }
   ],
   "source": [
    "print(x)"
   ]
  },
  {
   "cell_type": "code",
   "execution_count": 19,
   "id": "91c9ef89-77e1-4d22-bc76-dd26d447f3c4",
   "metadata": {},
   "outputs": [
    {
     "name": "stdout",
     "output_type": "stream",
     "text": [
      "maria tem 22 anos\n"
     ]
    }
   ],
   "source": [
    "nome =\"maria\"\n",
    "idade = 22\n",
    "print(nome, \"tem\", idade, \"anos\")\n",
    "\n",
    "\n"
   ]
  },
  {
   "cell_type": "code",
   "execution_count": null,
   "id": "2f2ee502-c89f-4193-8fc3-ae9212d61dde",
   "metadata": {},
   "outputs": [],
   "source": []
  }
 ],
 "metadata": {
  "kernelspec": {
   "display_name": "Python [conda env:base] *",
   "language": "python",
   "name": "conda-base-py"
  },
  "language_info": {
   "codemirror_mode": {
    "name": "ipython",
    "version": 3
   },
   "file_extension": ".py",
   "mimetype": "text/x-python",
   "name": "python",
   "nbconvert_exporter": "python",
   "pygments_lexer": "ipython3",
   "version": "3.12.7"
  }
 },
 "nbformat": 4,
 "nbformat_minor": 5
}
