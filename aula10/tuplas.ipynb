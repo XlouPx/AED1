{
 "cells": [
  {
   "cell_type": "code",
   "execution_count": 15,
   "id": "8542854e-9827-45a0-9900-2498451dce42",
   "metadata": {},
   "outputs": [
    {
     "name": "stdin",
     "output_type": "stream",
     "text": [
      "Digite uma idade (ou digite -1 para parar):  11\n",
      "Digite uma idade (ou digite -1 para parar):  -1\n"
     ]
    },
    {
     "name": "stdout",
     "output_type": "stream",
     "text": [
      "\n",
      "--- Resultados ---\n",
      "Idades Coletadas (Lista): [11]\n",
      "Idades Coletadas (Tupla): (11,)\n",
      "A média das idades é: 11.00\n"
     ]
    }
   ],
   "source": [
    "idade = []\n",
    "\n",
    "# Pede a primeira entrada ANTES do loop\n",
    "pergunta = int(input(\"Digite uma idade (ou digite -1 para parar): \"))\n",
    "\n",
    "# O loop continua ENQUANTO o valor digitado for diferente de -1\n",
    "while pergunta != -1:\n",
    "    # Adiciona a idade digitada à lista\n",
    "    idade.append(pergunta)\n",
    "\n",
    "    # Pede a PRÓXIMA entrada. Isso é crucial para que o loop possa parar.\n",
    "    pergunta = int(input(\"Digite uma idade (ou digite -1 para parar): \"))\n",
    "\n",
    "# 1. Converte a lista 'idade' em uma tupla 'idade_tupla'\n",
    "idade_tupla = tuple(idade)\n",
    "\n",
    "# 2. Calcula a média\n",
    "media = sum(idade) / len(idade)\n",
    "\n",
    "# Quando o loop terminar (porque -1 foi digitado), exibe a lista final\n",
    "print(\"\\n--- Resultados ---\")\n",
    "print(\"Idades Coletadas (Lista):\", idade)\n",
    "print(\"Idades Coletadas (Tupla):\", idade_tupla)\n",
    "print(f\"A média das idades é: {media:.2f}\")"
   ]
  },
  {
   "cell_type": "code",
   "execution_count": 17,
   "id": "ab1eaf8a-1a9c-4994-8336-22f2908046d3",
   "metadata": {},
   "outputs": [
    {
     "name": "stdin",
     "output_type": "stream",
     "text": [
      "Digite uma idade (ou digite -1 para parar):  -1\n"
     ]
    },
    {
     "name": "stdout",
     "output_type": "stream",
     "text": [
      "\n",
      "Processo finalizado. Nenhuma idade válida foi inserida.\n"
     ]
    }
   ],
   "source": [
    "idade = []\n",
    "\n",
    "# --- Entrada de Dados (usando o loop while) ---\n",
    "pergunta = int(input(\"Digite uma idade (ou digite -1 para parar): \"))\n",
    "\n",
    "# O loop continua enquanto o valor digitado for diferente de -1\n",
    "while pergunta != -1:\n",
    "    # Adiciona a idade digitada à lista\n",
    "    idade.append(pergunta)\n",
    "\n",
    "    # Pede a PRÓXIMA entrada para que o loop possa ser atualizado/parado\n",
    "    pergunta = int(input(\"Digite uma idade (ou digite -1 para parar): \"))\n",
    "\n",
    "# Garante que a lista não esteja vazia antes de calcular\n",
    "if len(idade) > 0:\n",
    "    # 1. Converte a lista 'idade' em uma tupla 'idade_tupla'\n",
    "    idade_tupla = tuple(idade)\n",
    "\n",
    "    # 2. Calcula a média\n",
    "    media = sum(idade) / len(idade)\n",
    "\n",
    "    # --- Saída de Dados ---\n",
    "    print(\"\\n--- Resultados ---\")\n",
    "    print(\"Idades Coletadas (Lista):\", idade)\n",
    "    print(\"Idades Coletadas (Tupla):\", idade_tupla)\n",
    "    print(f\"A média das idades é: {media:.2f}\")\n",
    "\n",
    "else:\n",
    "    print(\"\\nProcesso finalizado. Nenhuma idade válida foi inserida.\")"
   ]
  },
  {
   "cell_type": "code",
   "execution_count": 33,
   "id": "30e321fc-98f3-43b2-af45-c99a07ff94cc",
   "metadata": {},
   "outputs": [
    {
     "name": "stdin",
     "output_type": "stream",
     "text": [
      "Digite o sobrenome:  22\n",
      "Digite a Idade 222\n",
      "Digite o sobrenome:  222\n",
      "Digite a Idade 22\n",
      "Digite o sobrenome:  222\n",
      "Digite a Idade 222\n",
      "Digite o sobrenome:  222\n",
      "Digite a Idade 222\n",
      "Digite o sobrenome:  222\n",
      "Digite a Idade 2222\n"
     ]
    },
    {
     "ename": "AttributeError",
     "evalue": "'dict' object has no attribute 'item'",
     "output_type": "error",
     "traceback": [
      "\u001b[1;31m---------------------------------------------------------------------------\u001b[0m",
      "\u001b[1;31mAttributeError\u001b[0m                            Traceback (most recent call last)",
      "Cell \u001b[1;32mIn[33], line 11\u001b[0m\n\u001b[0;32m      8\u001b[0m idade \u001b[38;5;241m=\u001b[39m []\n\u001b[0;32m      9\u001b[0m sobrenome \u001b[38;5;241m=\u001b[39m []\n\u001b[1;32m---> 11\u001b[0m \u001b[38;5;28;01mfor\u001b[39;00m s, i \u001b[38;5;129;01min\u001b[39;00m pessoas\u001b[38;5;241m.\u001b[39mitem():\n\u001b[0;32m     12\u001b[0m     idades\u001b[38;5;241m.\u001b[39mappend(i)\n\u001b[0;32m     13\u001b[0m     sobrenome\u001b[38;5;241m.\u001b[39mappend(s)\n",
      "\u001b[1;31mAttributeError\u001b[0m: 'dict' object has no attribute 'item'"
     ]
    }
   ],
   "source": [
    "pessoas = {}\n",
    "\n",
    "for i in range(5):\n",
    "    sobrenome = input(\"Digite o sobrenome: \")\n",
    "    idade = int(input(\"Digite a Idade\"))\n",
    "    pessoas[sobrenome] = idade\n",
    "\n",
    "idade = []\n",
    "sobrenome = []\n",
    "\n",
    "for s, i in pessoas.items():\n",
    "    idade.append(i)\n",
    "    sobrenome.append(s)\n",
    "\n",
    "if idade:\n",
    "    maior = max(idade)\n",
    "    indece_maior = idade.index(maior)\n",
    "    \n",
    "    print(f\"A pessoa com maior idade é {sobrenome[indece_maior]}\")\n",
    "else:\n",
    "    print(\"Nenhuma idade válida foi cadastrada.\")\n",
    "\n",
    "\n",
    "# Exibe o dicionário final\n",
    "print(\"\\n--- Dicionário de Pessoas ---\")\n",
    "print(pessoas)"
   ]
  },
  {
   "cell_type": "code",
   "execution_count": 29,
   "id": "b0ae2814-a5a1-456a-9993-775b57599792",
   "metadata": {},
   "outputs": [
    {
     "name": "stdout",
     "output_type": "stream",
     "text": [
      "\n",
      "--- Cadastro 1 de 5 ---\n"
     ]
    },
    {
     "name": "stdin",
     "output_type": "stream",
     "text": [
      "Digite o sobrenome:  saas\n",
      "Digite a Idade:  222\n"
     ]
    },
    {
     "name": "stdout",
     "output_type": "stream",
     "text": [
      "\n",
      "--- Cadastro 2 de 5 ---\n"
     ]
    },
    {
     "name": "stdin",
     "output_type": "stream",
     "text": [
      "Digite o sobrenome:  sasa\n",
      "Digite a Idade:  33\n"
     ]
    },
    {
     "name": "stdout",
     "output_type": "stream",
     "text": [
      "\n",
      "--- Cadastro 3 de 5 ---\n"
     ]
    },
    {
     "name": "stdin",
     "output_type": "stream",
     "text": [
      "Digite o sobrenome:  sasa\n",
      "Digite a Idade:  333\n"
     ]
    },
    {
     "name": "stdout",
     "output_type": "stream",
     "text": [
      "\n",
      "--- Cadastro 4 de 5 ---\n"
     ]
    },
    {
     "name": "stdin",
     "output_type": "stream",
     "text": [
      "Digite o sobrenome:  sasa\n",
      "Digite a Idade:  33\n"
     ]
    },
    {
     "name": "stdout",
     "output_type": "stream",
     "text": [
      "\n",
      "--- Cadastro 5 de 5 ---\n"
     ]
    },
    {
     "name": "stdin",
     "output_type": "stream",
     "text": [
      "Digite o sobrenome:  asasa\n",
      "Digite a Idade:  2\n"
     ]
    },
    {
     "name": "stdout",
     "output_type": "stream",
     "text": [
      "\n",
      "--- Dicionário de Pessoas ---\n",
      "{'saas': 222, 'sasa': 33, 'asasa': 2}\n"
     ]
    }
   ],
   "source": [
    "pessoas = {}  # Inicializado como um Dicionário (com chaves {})\n",
    "\n",
    "# O loop irá rodar 5 vezes (de 0 a 4)\n",
    "for i in range(5):\n",
    "    print(f\"\\n--- Cadastro {i + 1} de 5 ---\")\n",
    "    \n",
    "    # Recebe o sobrenome (chave)\n",
    "    sobrenome = input(\"Digite o sobrenome: \")\n",
    "\n",
    "    try:\n",
    "        idade = int(input(\"Digite a Idade: \"))\n",
    "        \n",
    "        # Adiciona o par chave:valor ao dicionário\n",
    "        pessoas[sobrenome] = idade\n",
    "    except ValueError:\n",
    "        print(\"Idade inválida. Cadastro ignorado.\")\n",
    "\n",
    "\n",
    "# Exibe o dicionário final\n",
    "print(\"\\n--- Dicionário de Pessoas ---\")\n",
    "print(pessoas)"
   ]
  },
  {
   "cell_type": "code",
   "execution_count": null,
   "id": "4501d0f3-7336-41fd-a553-b86c07de9a1f",
   "metadata": {},
   "outputs": [],
   "source": []
  },
  {
   "cell_type": "code",
   "execution_count": null,
   "id": "14239bea-9e5d-43a7-803b-f515fe6cc45c",
   "metadata": {},
   "outputs": [],
   "source": []
  }
 ],
 "metadata": {
  "kernelspec": {
   "display_name": "Python [conda env:base] *",
   "language": "python",
   "name": "conda-base-py"
  },
  "language_info": {
   "codemirror_mode": {
    "name": "ipython",
    "version": 3
   },
   "file_extension": ".py",
   "mimetype": "text/x-python",
   "name": "python",
   "nbconvert_exporter": "python",
   "pygments_lexer": "ipython3",
   "version": "3.12.7"
  }
 },
 "nbformat": 4,
 "nbformat_minor": 5
}
