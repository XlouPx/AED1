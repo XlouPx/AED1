{
 "cells": [
  {
   "cell_type": "code",
   "execution_count": 9,
   "id": "ef9f6358-d96d-4ef4-aaee-05d608d23b5c",
   "metadata": {},
   "outputs": [],
   "source": [
    "alunos = ('ana', 'pedro', 'maria')\n",
    "notas = [9,3.5,6]"
   ]
  },
  {
   "cell_type": "code",
   "execution_count": 11,
   "id": "585a413c-3029-4cea-872e-6565d004f1f2",
   "metadata": {},
   "outputs": [
    {
     "name": "stdout",
     "output_type": "stream",
     "text": [
      " O(a) estudante ana teve nota 9!\n",
      " O(a) estudante pedro teve nota 3.5!\n",
      " O(a) estudante maria teve nota 6!\n"
     ]
    }
   ],
   "source": [
    "for i in range(len(alunos)):\n",
    "    print(f\" O(a) estudante {alunos [i]} teve nota {notas[i]}!\")"
   ]
  },
  {
   "cell_type": "code",
   "execution_count": 15,
   "id": "7e54cd71-267d-40c9-b909-c15708835d83",
   "metadata": {},
   "outputs": [
    {
     "name": "stdout",
     "output_type": "stream",
     "text": [
      "['arroz', 'frango', 'chocolate', 'batata', 'cenoura', 'beterraba']\n"
     ]
    }
   ],
   "source": [
    "lista_2 = [\"arroz\",\"frango\",\"chocolate\"]\n",
    "lista_3 = [\"batata\",\"cenoura\",\"beterraba\"]\n",
    "lista = lista_2 + lista_3\n",
    "print(lista)"
   ]
  },
  {
   "cell_type": "code",
   "execution_count": 17,
   "id": "aad2ea0b-e734-488d-acf3-2d8aed225145",
   "metadata": {},
   "outputs": [
    {
     "name": "stdout",
     "output_type": "stream",
     "text": [
      "arroz\n",
      "frango\n",
      "chocolate\n",
      "batata\n",
      "cenoura\n",
      "beterraba\n"
     ]
    }
   ],
   "source": [
    "for alimento in lista:\n",
    "    print(alimento)"
   ]
  },
  {
   "cell_type": "code",
   "execution_count": null,
   "id": "0086c8a4-cf8f-48ee-b047-811232306088",
   "metadata": {},
   "outputs": [],
   "source": []
  }
 ],
 "metadata": {
  "kernelspec": {
   "display_name": "Python [conda env:base] *",
   "language": "python",
   "name": "conda-base-py"
  },
  "language_info": {
   "codemirror_mode": {
    "name": "ipython",
    "version": 3
   },
   "file_extension": ".py",
   "mimetype": "text/x-python",
   "name": "python",
   "nbconvert_exporter": "python",
   "pygments_lexer": "ipython3",
   "version": "3.12.7"
  }
 },
 "nbformat": 4,
 "nbformat_minor": 5
}
